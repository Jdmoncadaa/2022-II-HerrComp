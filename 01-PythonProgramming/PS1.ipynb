{
 "cells": [
  {
   "cell_type": "markdown",
   "id": "bd38c323",
   "metadata": {},
   "source": [
    "Before you turn this problem in, make sure everything runs as expected. First, **restart the kernel** (in the menubar, select Kernel$\\rightarrow$Restart) and then **run all cells** (in the menubar, select Cell$\\rightarrow$Run All).\n",
    "\n",
    "Make sure you fill in any place that says `YOUR CODE HERE` or \"YOUR ANSWER HERE\", as well as your name and collaborators below:"
   ]
  },
  {
   "cell_type": "code",
   "execution_count": null,
   "id": "958a0dc1",
   "metadata": {},
   "outputs": [],
   "source": [
    "NAME = \"\"\n",
    "COLLABORATORS = \"\""
   ]
  },
  {
   "cell_type": "markdown",
   "id": "3b05dc33",
   "metadata": {},
   "source": [
    "---"
   ]
  },
  {
   "cell_type": "markdown",
   "id": "60429e08",
   "metadata": {
    "deletable": false,
    "editable": false,
    "nbgrader": {
     "cell_type": "markdown",
     "checksum": "c54fd95cba5d94f18fecaaed19e19332",
     "grade": false,
     "grade_id": "cell-a394941bc188b823",
     "locked": true,
     "schema_version": 3,
     "solution": false,
     "task": false
    }
   },
   "source": [
    "Write a function which receives a positive integer number and prints the sum of all even numbers smaller than the parameter read"
   ]
  },
  {
   "cell_type": "code",
   "execution_count": null,
   "id": "df335763",
   "metadata": {
    "deletable": false,
    "nbgrader": {
     "cell_type": "code",
     "checksum": "988227ac29c8f0dbdc963ea8447f31dc",
     "grade": false,
     "grade_id": "cell-48df8f2b83dee5a8",
     "locked": false,
     "schema_version": 3,
     "solution": true,
     "task": false
    }
   },
   "outputs": [],
   "source": [
    "#import numpy\n",
    "def sum_smaller_even(n):\n",
    "# YOUR CODE HERE\n",
    "raise NotImplementedError()"
   ]
  },
  {
   "cell_type": "code",
   "execution_count": null,
   "id": "13230a28",
   "metadata": {
    "deletable": false,
    "editable": false,
    "nbgrader": {
     "cell_type": "code",
     "checksum": "cac442847be898bd06705ead1c061c1a",
     "grade": true,
     "grade_id": "cell-4fe77a6d354d52e1",
     "locked": true,
     "points": 0.5,
     "schema_version": 3,
     "solution": false,
     "task": false
    }
   },
   "outputs": [],
   "source": [
    "assert 0 == sum_smaller_even(-10)\n",
    "assert 0 == sum_smaller_even(0)\n",
    "assert 0 == sum_smaller_even(2)\n",
    "assert 2 == sum_smaller_even(3)\n",
    "assert 2 == sum_smaller_even(4)\n",
    "assert 6 == sum_smaller_even(5)\n",
    "assert 6 == sum_smaller_even(6)\n",
    "assert 30 == sum_smaller_even(12)\n",
    "assert 42 == sum_smaller_even(13)\n",
    "assert 42 == sum_smaller_even(14)\n",
    "assert 2450 == sum_smaller_even(100)\n",
    "### BEGIN HIDDEN TEST\n",
    "assert 2756 == sum_smaller_even(105)\n",
    "assert 13340 == sum_smaller_even(231)\n",
    "### END HIDDEN TEST"
   ]
  },
  {
   "cell_type": "markdown",
   "id": "6e94e907",
   "metadata": {
    "deletable": false,
    "editable": false,
    "nbgrader": {
     "cell_type": "markdown",
     "checksum": "f39f96d259f74b87f02579c887fd8b42",
     "grade": false,
     "grade_id": "cell-6dfa84d5f44df538",
     "locked": true,
     "schema_version": 3,
     "solution": false,
     "task": false
    }
   },
   "source": [
    "Compute the mathematical sum $$\\sum_{k=1}^M \\frac{1}{k},$$ as a function of $M$, up to $M=10000$. Print the results to a file and plot them (check `matplotlib/seaborn`). "
   ]
  },
  {
   "cell_type": "code",
   "execution_count": null,
   "id": "64170531",
   "metadata": {},
   "outputs": [],
   "source": []
  },
  {
   "cell_type": "code",
   "execution_count": null,
   "id": "feef1bfa",
   "metadata": {},
   "outputs": [],
   "source": []
  },
  {
   "cell_type": "markdown",
   "id": "2f74a6a4",
   "metadata": {},
   "source": [
    "Write a function to compute, numerically, the central derivative of a given function, $$ f'(x) \\simeq \\frac{f(x+h) - f(x-h)}{2h}.$$ Use, as a model, the function $sin(x)$ (and later try with $e^x$ and $x^2$). Print a table showing the difference between the exact derivate and the numerical approximation, as a function of $h$, and save it to a file. Change $h$ logarithmically (powers of 10), starting at $h = 0.1$ until $h=10^{-6}$. Evaluate the derivative at $x = 0.1$.  "
   ]
  },
  {
   "cell_type": "code",
   "execution_count": null,
   "id": "7ad5f410",
   "metadata": {},
   "outputs": [],
   "source": []
  },
  {
   "cell_type": "code",
   "execution_count": null,
   "id": "a80e68a3",
   "metadata": {},
   "outputs": [],
   "source": []
  }
 ],
 "metadata": {
  "kernelspec": {
   "display_name": "Python 3 (ipykernel)",
   "language": "python",
   "name": "python3"
  },
  "language_info": {
   "codemirror_mode": {
    "name": "ipython",
    "version": 3
   },
   "file_extension": ".py",
   "mimetype": "text/x-python",
   "name": "python",
   "nbconvert_exporter": "python",
   "pygments_lexer": "ipython3",
   "version": "3.9.13"
  },
  "toc": {
   "base_numbering": 1,
   "nav_menu": {},
   "number_sections": true,
   "sideBar": true,
   "skip_h1_title": false,
   "title_cell": "Table of Contents",
   "title_sidebar": "Contents",
   "toc_cell": false,
   "toc_position": {},
   "toc_section_display": true,
   "toc_window_display": false
  }
 },
 "nbformat": 4,
 "nbformat_minor": 5
}
